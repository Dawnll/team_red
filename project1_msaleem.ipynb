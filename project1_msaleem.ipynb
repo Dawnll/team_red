{
 "cells": [
  {
   "cell_type": "code",
   "execution_count": 1,
   "id": "e6d5ba89-fca0-45b7-80b1-b1c5cc87ec31",
   "metadata": {},
   "outputs": [
    {
     "name": "stdout",
     "output_type": "stream",
     "text": [
      "this is a test\n"
     ]
    }
   ],
   "source": [
    "print(\"this is a test\")"
   ]
  },
  {
   "cell_type": "code",
   "execution_count": 2,
   "id": "9f768d51-a31e-4b9c-a245-b319196aef3e",
   "metadata": {},
   "outputs": [
    {
     "name": "stdout",
     "output_type": "stream",
     "text": [
      "my second test\n"
     ]
    }
   ],
   "source": [
    "print('my second test')\n"
   ]
  },
  {
   "cell_type": "code",
   "execution_count": null,
   "id": "55287c54-71b1-4e80-ab92-3906cde980b9",
   "metadata": {},
   "outputs": [],
   "source": []
  }
 ],
 "metadata": {
  "kernelspec": {
   "display_name": "Python 3 (ipykernel)",
   "language": "python",
   "name": "python3"
  },
  "language_info": {
   "codemirror_mode": {
    "name": "ipython",
    "version": 3
   },
   "file_extension": ".py",
   "mimetype": "text/x-python",
   "name": "python",
   "nbconvert_exporter": "python",
   "pygments_lexer": "ipython3",
   "version": "3.9.7"
  }
 },
 "nbformat": 4,
 "nbformat_minor": 5
}
